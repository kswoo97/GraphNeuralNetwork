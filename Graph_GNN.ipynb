{
 "cells": [
  {
   "cell_type": "markdown",
   "metadata": {},
   "source": [
    "# Graph Classification"
   ]
  },
  {
   "cell_type": "code",
   "execution_count": 55,
   "metadata": {},
   "outputs": [],
   "source": [
    "import numpy as np\n",
    "import pandas as pd\n",
    "import matplotlib.pyplot as plt\n",
    "from data_generator import  * \n",
    "from GNN_models import *\n",
    "\n",
    "import torch\n",
    "from torch_geometric.data import DataLoader\n",
    "\n",
    "device = torch.device('cuda' if torch.cuda.is_available() else 'cpu')"
   ]
  },
  {
   "cell_type": "markdown",
   "metadata": {},
   "source": [
    "### Importing data"
   ]
  },
  {
   "cell_type": "code",
   "execution_count": 22,
   "metadata": {},
   "outputs": [],
   "source": [
    "#x_aug = np.load(\"x_aug.npz\", allow_pickle = True)['datadict_list'][0]\n",
    "x_true = np.load(\"x_true.npz\", allow_pickle = True)['datadict_list'][0]\n",
    "#y_aug = np.load(\"y_aug.npz\", allow_pickle = True)['y_aug']\n",
    "y_true = np.load(\"y_true.npz\", allow_pickle = True)['y']\n",
    "true_raw = np.load(\"true_raw_attribution_datadicts.npz\", allow_pickle = True)[\"datadict_list\"]"
   ]
  },
  {
   "cell_type": "markdown",
   "metadata": {},
   "source": [
    "### Generating data"
   ]
  },
  {
   "cell_type": "code",
   "execution_count": 24,
   "metadata": {},
   "outputs": [
    {
     "name": "stderr",
     "output_type": "stream",
     "text": [
      "12000it [00:00, 33419.20it/s]\n"
     ]
    }
   ],
   "source": [
    "# Generating training & test data\n",
    "data_model = molecular_data_generator(x_true, y_true)\n",
    "data_model.data_generation()"
   ]
  },
  {
   "cell_type": "code",
   "execution_count": 19,
   "metadata": {},
   "outputs": [],
   "source": [
    "train_data = data_model.out_list[:10000]\n",
    "test_data = data_model.out_list[10000:]\n",
    "\n",
    "data_module = DataLoader(train_data, \n",
    "                        batch_size = 100)"
   ]
  },
  {
   "cell_type": "markdown",
   "metadata": {},
   "source": [
    "### Model"
   ]
  },
  {
   "cell_type": "code",
   "execution_count": 25,
   "metadata": {},
   "outputs": [],
   "source": [
    "nn_conv = benzene_NNConv(data_model.out_list[0], \n",
    "                        device = \"cuda\")"
   ]
  },
  {
   "cell_type": "markdown",
   "metadata": {},
   "source": [
    "### Graph classification"
   ]
  },
  {
   "cell_type": "code",
   "execution_count": 8,
   "metadata": {},
   "outputs": [
    {
     "name": "stderr",
     "output_type": "stream",
     "text": [
      "C:\\Users\\kswoo\\Anaconda3\\envs\\sunwoo_env\\lib\\site-packages\\torch\\nn\\functional.py:1639: UserWarning: nn.functional.sigmoid is deprecated. Use torch.sigmoid instead.\n",
      "  warnings.warn(\"nn.functional.sigmoid is deprecated. Use torch.sigmoid instead.\")\n"
     ]
    },
    {
     "name": "stdout",
     "output_type": "stream",
     "text": [
      "tensor(0.0745, device='cuda:0', grad_fn=<BinaryCrossEntropyBackward>)\n",
      "tensor(0.0345, device='cuda:0', grad_fn=<BinaryCrossEntropyBackward>)\n",
      "tensor(0.0172, device='cuda:0', grad_fn=<BinaryCrossEntropyBackward>)\n",
      "tensor(0.0099, device='cuda:0', grad_fn=<BinaryCrossEntropyBackward>)\n",
      "tensor(0.0069, device='cuda:0', grad_fn=<BinaryCrossEntropyBackward>)\n",
      "tensor(0.0055, device='cuda:0', grad_fn=<BinaryCrossEntropyBackward>)\n",
      "tensor(0.0045, device='cuda:0', grad_fn=<BinaryCrossEntropyBackward>)\n",
      "tensor(0.0035, device='cuda:0', grad_fn=<BinaryCrossEntropyBackward>)\n",
      "tensor(0.0026, device='cuda:0', grad_fn=<BinaryCrossEntropyBackward>)\n",
      "tensor(0.0019, device='cuda:0', grad_fn=<BinaryCrossEntropyBackward>)\n",
      "tensor(0.0014, device='cuda:0', grad_fn=<BinaryCrossEntropyBackward>)\n",
      "tensor(0.0011, device='cuda:0', grad_fn=<BinaryCrossEntropyBackward>)\n",
      "tensor(0.0008, device='cuda:0', grad_fn=<BinaryCrossEntropyBackward>)\n",
      "tensor(0.0006, device='cuda:0', grad_fn=<BinaryCrossEntropyBackward>)\n",
      "tensor(0.0005, device='cuda:0', grad_fn=<BinaryCrossEntropyBackward>)\n"
     ]
    }
   ],
   "source": [
    "model = benzene_NNConv(data_model.out_list[0]).to(device)\n",
    "model.reset_parameters()\n",
    "optimizer = torch.optim.Adam(model.parameters(), lr=0.001, weight_decay=5e-4)\n",
    "\n",
    "model.train()\n",
    "for epoch in range(15):\n",
    "    for data in data_module : \n",
    "        data.to(device)\n",
    "        optimizer.zero_grad()\n",
    "        out = model(data = data, \n",
    "                   training_with_batch = True)\n",
    "        loss = F.binary_cross_entropy(out.view(-1), data.y)\n",
    "        loss.backward()\n",
    "        optimizer.step()\n",
    "    print(loss)"
   ]
  },
  {
   "cell_type": "markdown",
   "metadata": {},
   "source": [
    "### Test data evaluation"
   ]
  },
  {
   "cell_type": "code",
   "execution_count": 43,
   "metadata": {},
   "outputs": [
    {
     "name": "stderr",
     "output_type": "stream",
     "text": [
      "  0%|                                                                                         | 0/2000 [00:00<?, ?it/s]C:\\Users\\kswoo\\Anaconda3\\envs\\sunwoo_env\\lib\\site-packages\\torch\\nn\\functional.py:1639: UserWarning: nn.functional.sigmoid is deprecated. Use torch.sigmoid instead.\n",
      "  warnings.warn(\"nn.functional.sigmoid is deprecated. Use torch.sigmoid instead.\")\n",
      "100%|████████████████████████████████████████████████████████████████████████████| 2000/2000 [00:01<00:00, 1026.46it/s]\n"
     ]
    }
   ],
   "source": [
    "acc = 0 \n",
    "entire_emb = np.zeros(16).reshape(1,-1)\n",
    "for data in tqdm(test_data) : \n",
    "    pred_y = model(data.to(device), \n",
    "         training_with_batch = False)\n",
    "    emb = model.embeddings\n",
    "    entire_emb = np.vstack([entire_emb, emb.to(\"cpu\").detach().numpy().reshape(1,-1)])\n",
    "    if data.y.to(\"cpu\").item() > 0.5 : \n",
    "        if pred_y.to(\"cpu\").detach().item() > 0.5 : \n",
    "            acc += 1\n",
    "    else : \n",
    "        if pred_y.to(\"cpu\").detach().item() < 0.5 : \n",
    "            acc += 1\n",
    "entire_emb = entire_emb[1:, :]"
   ]
  },
  {
   "cell_type": "markdown",
   "metadata": {},
   "source": [
    "Model Accuracy"
   ]
  },
  {
   "cell_type": "code",
   "execution_count": 38,
   "metadata": {},
   "outputs": [
    {
     "data": {
      "text/plain": [
       "0.9985"
      ]
     },
     "execution_count": 38,
     "metadata": {},
     "output_type": "execute_result"
    }
   ],
   "source": [
    "acc/len(test_data)"
   ]
  },
  {
   "cell_type": "markdown",
   "metadata": {},
   "source": [
    "### Visualizing embedding"
   ]
  },
  {
   "cell_type": "code",
   "execution_count": 60,
   "metadata": {},
   "outputs": [],
   "source": [
    "test_y = y_true[1000:, ]\n",
    "benz = np.where(test_y.reshape(-1) == 1)[0]\n",
    "no_benz = np.where(test_y.reshape(-1) == 0)[0]"
   ]
  },
  {
   "cell_type": "code",
   "execution_count": 62,
   "metadata": {},
   "outputs": [],
   "source": [
    "from sklearn.manifold import TSNE\n",
    "X_embedded = TSNE(n_components=2).fit_transform(test_y)"
   ]
  },
  {
   "cell_type": "code",
   "execution_count": 65,
   "metadata": {},
   "outputs": [
    {
     "data": {
      "text/plain": [
       "<matplotlib.legend.Legend at 0x28f017e5a00>"
      ]
     },
     "execution_count": 65,
     "metadata": {},
     "output_type": "execute_result"
    },
    {
     "data": {
      "image/png": "[encoded data removed]",
      "text/plain": [
       "<Figure size 720x720 with 1 Axes>"
      ]
     },
     "metadata": {
      "needs_background": "light"
     },
     "output_type": "display_data"
    }
   ],
   "source": [
    "plt.figure(figsize = (10,10))\n",
    "plt.title(\"Graph classification\")\n",
    "plt.scatter(X_embedded[benz, 0], X_embedded[benz, 1], color = \"red\", label = \"benzene\")\n",
    "plt.scatter(X_embedded[no_benz, 0], X_embedded[no_benz, 1], color = \"blue\", label = \"no-benzene\")\n",
    "plt.legend()"
   ]
  },
  {
   "cell_type": "markdown",
   "metadata": {},
   "source": [
    "### Appendix. Checking the ID of mol"
   ]
  },
  {
   "cell_type": "code",
   "execution_count": 31,
   "metadata": {},
   "outputs": [],
   "source": [
    "smile = pd.read_csv(\"benzene_smiles.csv\")"
   ]
  },
  {
   "cell_type": "code",
   "execution_count": 32,
   "metadata": {},
   "outputs": [
    {
     "data": {
      "text/html": [
       "<div>\n",
       "<style scoped>\n",
       "    .dataframe tbody tr th:only-of-type {\n",
       "        vertical-align: middle;\n",
       "    }\n",
       "\n",
       "    .dataframe tbody tr th {\n",
       "        vertical-align: top;\n",
       "    }\n",
       "\n",
       "    .dataframe thead th {\n",
       "        text-align: right;\n",
       "    }\n",
       "</style>\n",
       "<table border=\"1\" class=\"dataframe\">\n",
       "  <thead>\n",
       "    <tr style=\"text-align: right;\">\n",
       "      <th></th>\n",
       "      <th>mol_id</th>\n",
       "      <th>smiles</th>\n",
       "      <th>mol</th>\n",
       "      <th>label</th>\n",
       "    </tr>\n",
       "  </thead>\n",
       "  <tbody>\n",
       "    <tr>\n",
       "      <th>0</th>\n",
       "      <td>ZINC72292955</td>\n",
       "      <td>c1cc(ncc1NC(=O)C1CCCCC1)n1cc(cn1)S(=O)(=O)N</td>\n",
       "      <td>&lt;rdkit.Chem.rdchem.Mol object at 0x7f933b6e5c10&gt;</td>\n",
       "      <td>0.0</td>\n",
       "    </tr>\n",
       "    <tr>\n",
       "      <th>1</th>\n",
       "      <td>ZINC66294494</td>\n",
       "      <td>C[C@H](C(=O)Nc1ccccc1F)[S@@](=O)C/C=C/c1ccccc1</td>\n",
       "      <td>&lt;rdkit.Chem.rdchem.Mol object at 0x7f933b55cb70&gt;</td>\n",
       "      <td>1.0</td>\n",
       "    </tr>\n",
       "    <tr>\n",
       "      <th>2</th>\n",
       "      <td>ZINC07601739</td>\n",
       "      <td>c1ccc(cc1)CNn1c(nnn1)N</td>\n",
       "      <td>&lt;rdkit.Chem.rdchem.Mol object at 0x7f933b63c300&gt;</td>\n",
       "      <td>1.0</td>\n",
       "    </tr>\n",
       "    <tr>\n",
       "      <th>3</th>\n",
       "      <td>ZINC04127898</td>\n",
       "      <td>CC(=O)N(C)c1ccc(c2c1cccc2)[N+](=O)[O-]</td>\n",
       "      <td>&lt;rdkit.Chem.rdchem.Mol object at 0x7f933b3c9bc0&gt;</td>\n",
       "      <td>1.0</td>\n",
       "    </tr>\n",
       "    <tr>\n",
       "      <th>4</th>\n",
       "      <td>ZINC33699343</td>\n",
       "      <td>CC(=O)/C(=C/NCCN1CCOCC1)/C(=O)Nc1ccccc1</td>\n",
       "      <td>&lt;rdkit.Chem.rdchem.Mol object at 0x7f933b320b20&gt;</td>\n",
       "      <td>1.0</td>\n",
       "    </tr>\n",
       "    <tr>\n",
       "      <th>...</th>\n",
       "      <td>...</td>\n",
       "      <td>...</td>\n",
       "      <td>...</td>\n",
       "      <td>...</td>\n",
       "    </tr>\n",
       "    <tr>\n",
       "      <th>11995</th>\n",
       "      <td>ZINC89389574</td>\n",
       "      <td>C[C@]1(CCCS1)C(=O)N[C@H](COC)C(=O)N</td>\n",
       "      <td>&lt;rdkit.Chem.rdchem.Mol object at 0x7f933b6c84e0&gt;</td>\n",
       "      <td>0.0</td>\n",
       "    </tr>\n",
       "    <tr>\n",
       "      <th>11996</th>\n",
       "      <td>ZINC12618996</td>\n",
       "      <td>Cc1nc(cs1)c1ccc(o1)CNC(=O)COc1ccc(cc1Br)Br</td>\n",
       "      <td>&lt;rdkit.Chem.rdchem.Mol object at 0x7f933b39f300&gt;</td>\n",
       "      <td>1.0</td>\n",
       "    </tr>\n",
       "    <tr>\n",
       "      <th>11997</th>\n",
       "      <td>ZINC03075348</td>\n",
       "      <td>CCOC(=O)[C@H](C)C(=O)NC</td>\n",
       "      <td>&lt;rdkit.Chem.rdchem.Mol object at 0x7f933b49a7b0&gt;</td>\n",
       "      <td>0.0</td>\n",
       "    </tr>\n",
       "    <tr>\n",
       "      <th>11998</th>\n",
       "      <td>ZINC12359546</td>\n",
       "      <td>CCOC(=O)/C=C/c1cnccc1NC(=O)C</td>\n",
       "      <td>&lt;rdkit.Chem.rdchem.Mol object at 0x7f933ac88ad0&gt;</td>\n",
       "      <td>0.0</td>\n",
       "    </tr>\n",
       "    <tr>\n",
       "      <th>11999</th>\n",
       "      <td>ZINC50896494</td>\n",
       "      <td>Cc1nc([nH]n1)c1ccc(cc1)NC(=O)/C(=C\\c1ccco1)/C#N</td>\n",
       "      <td>&lt;rdkit.Chem.rdchem.Mol object at 0x7f933b56b940&gt;</td>\n",
       "      <td>1.0</td>\n",
       "    </tr>\n",
       "  </tbody>\n",
       "</table>\n",
       "<p>12000 rows × 4 columns</p>\n",
       "</div>"
      ],
      "text/plain": [
       "             mol_id                                           smiles  \\\n",
       "0      ZINC72292955      c1cc(ncc1NC(=O)C1CCCCC1)n1cc(cn1)S(=O)(=O)N   \n",
       "1      ZINC66294494   C[C@H](C(=O)Nc1ccccc1F)[S@@](=O)C/C=C/c1ccccc1   \n",
       "2      ZINC07601739                           c1ccc(cc1)CNn1c(nnn1)N   \n",
       "3      ZINC04127898           CC(=O)N(C)c1ccc(c2c1cccc2)[N+](=O)[O-]   \n",
       "4      ZINC33699343          CC(=O)/C(=C/NCCN1CCOCC1)/C(=O)Nc1ccccc1   \n",
       "...             ...                                              ...   \n",
       "11995  ZINC89389574              C[C@]1(CCCS1)C(=O)N[C@H](COC)C(=O)N   \n",
       "11996  ZINC12618996       Cc1nc(cs1)c1ccc(o1)CNC(=O)COc1ccc(cc1Br)Br   \n",
       "11997  ZINC03075348                          CCOC(=O)[C@H](C)C(=O)NC   \n",
       "11998  ZINC12359546                     CCOC(=O)/C=C/c1cnccc1NC(=O)C   \n",
       "11999  ZINC50896494  Cc1nc([nH]n1)c1ccc(cc1)NC(=O)/C(=C\\c1ccco1)/C#N   \n",
       "\n",
       "                                                    mol  label  \n",
       "0      <rdkit.Chem.rdchem.Mol object at 0x7f933b6e5c10>    0.0  \n",
       "1      <rdkit.Chem.rdchem.Mol object at 0x7f933b55cb70>    1.0  \n",
       "2      <rdkit.Chem.rdchem.Mol object at 0x7f933b63c300>    1.0  \n",
       "3      <rdkit.Chem.rdchem.Mol object at 0x7f933b3c9bc0>    1.0  \n",
       "4      <rdkit.Chem.rdchem.Mol object at 0x7f933b320b20>    1.0  \n",
       "...                                                 ...    ...  \n",
       "11995  <rdkit.Chem.rdchem.Mol object at 0x7f933b6c84e0>    0.0  \n",
       "11996  <rdkit.Chem.rdchem.Mol object at 0x7f933b39f300>    1.0  \n",
       "11997  <rdkit.Chem.rdchem.Mol object at 0x7f933b49a7b0>    0.0  \n",
       "11998  <rdkit.Chem.rdchem.Mol object at 0x7f933ac88ad0>    0.0  \n",
       "11999  <rdkit.Chem.rdchem.Mol object at 0x7f933b56b940>    1.0  \n",
       "\n",
       "[12000 rows x 4 columns]"
      ]
     },
     "execution_count": 32,
     "metadata": {},
     "output_type": "execute_result"
    }
   ],
   "source": [
    "smile"
   ]
  }
 ],
 "metadata": {
  "kernelspec": {
   "display_name": "sunwoo_env",
   "language": "python",
   "name": "sunwoo_env"
  },
  "language_info": {
   "codemirror_mode": {
    "name": "ipython",
    "version": 3
   },
   "file_extension": ".py",
   "mimetype": "text/x-python",
   "name": "python",
   "nbconvert_exporter": "python",
   "pygments_lexer": "ipython3",
   "version": "3.8.5"
  },
  "toc": {
   "base_numbering": 1,
   "nav_menu": {},
   "number_sections": false,
   "sideBar": true,
   "skip_h1_title": false,
   "title_cell": "Table of Contents",
   "title_sidebar": "Contents",
   "toc_cell": false,
   "toc_position": {
    "height": "calc(100% - 180px)",
    "left": "10px",
    "top": "150px",
    "width": "165px"
   },
   "toc_section_display": true,
   "toc_window_display": true
  }
 },
 "nbformat": 4,
 "nbformat_minor": 4
}
