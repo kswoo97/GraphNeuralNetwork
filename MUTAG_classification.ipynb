{
 "cells": [
  {
   "cell_type": "markdown",
   "metadata": {},
   "source": [
    "# MUTAG Classification by using Diff-Pool"
   ]
  },
  {
   "cell_type": "markdown",
   "metadata": {},
   "source": [
    "### Yonsei App. Stat.\n",
    "### Sunwoo Kim"
   ]
  },
  {
   "cell_type": "markdown",
   "metadata": {},
   "source": [
    "### Source data : https://pubs.acs.org/doi/abs/10.1021/jm00106a046\n",
    "### Diff-pool : https://arxiv.org/abs/1806.08804"
   ]
  },
  {
   "cell_type": "markdown",
   "metadata": {},
   "source": [
    "MUTAG 데이터는 각 분자(graph)가 mutagenicity를 갖고 있는지 분류하는 task입니다.  \n",
    "각 node feature는 7개의 화학 원자 중 하나이며,  \n",
    "각 edge feature는 연결 종류를 의미합니다.  \n",
    "여기서는 Ying et al. 19.에서 제시한 hierarchical clustering인 diff-pool로 task를 수행해보겠습니다."
   ]
  },
  {
   "cell_type": "markdown",
   "metadata": {},
   "source": [
    "### 1. Importing required packages"
   ]
  },
  {
   "cell_type": "code",
   "execution_count": 45,
   "metadata": {},
   "outputs": [],
   "source": [
    "from GNN_models import *\n",
    "import torch\n",
    "from torch_geometric.datasets import TUDataset\n",
    "from torch_geometric.data import DataLoader\n",
    "device = torch.device('cuda' if torch.cuda.is_available() else 'cpu')\n",
    "\n",
    "dataset = TUDataset(root='/tmp/MUTAG', name='MUTAG', use_node_attr=True)\n",
    "train_data = dataset[:150]\n",
    "test_data = dataset[150:]"
   ]
  },
  {
   "cell_type": "code",
   "execution_count": 19,
   "metadata": {},
   "outputs": [],
   "source": [
    "loader = DataLoader(dataset, batch_size=1, shuffle=True)"
   ]
  },
  {
   "cell_type": "code",
   "execution_count": 12,
   "metadata": {},
   "outputs": [],
   "source": [
    "data_ = dataset[0]"
   ]
  },
  {
   "cell_type": "code",
   "execution_count": 26,
   "metadata": {},
   "outputs": [
    {
     "name": "stdout",
     "output_type": "stream",
     "text": [
      "17.930851063829788\n",
      "{0, 1}\n"
     ]
    }
   ],
   "source": [
    "mean_node = 0\n",
    "proportion_y\n",
    "total_y = []\n",
    "for i in range(188) : \n",
    "    data = dataset[i]\n",
    "    mean_node += data.x.shape[0]\n",
    "    total_y.append(data.y.item())\n",
    "\n",
    "print()\n",
    "print(mean_node/188)\n",
    "print(set(total_y))"
   ]
  },
  {
   "cell_type": "markdown",
   "metadata": {},
   "source": [
    "각 분자는 평균적으로 17개의 원자를 갖고있고, 최종 class는 0 또는 1입니다.  \n",
    "이 정보를 토대로 아래와 같이 모델을 정의합니다."
   ]
  },
  {
   "cell_type": "markdown",
   "metadata": {},
   "source": [
    "### 2. Define model"
   ]
  },
  {
   "cell_type": "code",
   "execution_count": 28,
   "metadata": {},
   "outputs": [],
   "source": [
    "model = diffpool_gnn(dataset = data_,  # Tell model the dimension of input and output\n",
    "                    latent_dim = [16,16, \"d\",16,16], # Dimension of hidden SAGE layers\n",
    "                    diff_dim = [16, 2],  # Dimension of diff-pool layer and dimensionality reduction\n",
    "                    end_dim = [16, 2], # Dimension of output dimension\n",
    "                    device = device) # Readout layer's dimension"
   ]
  },
  {
   "cell_type": "markdown",
   "metadata": {},
   "source": [
    "모델은 아래와 같은 구조를 갖고 있습니다.  \n",
    "GraphSAGE -> GraphSAGE -> DiffPool -> GraphSAGE -> GraphSAGE -> DiffPool -> Readout  \n",
    "첫 Diffpool은 원래 노드 수에서 2개로 각 노드에 대해 차원축소를 진행합니다.  \n",
    "두번째 diffpool은 하나의 군집으로 두 군집을 축소합니다."
   ]
  },
  {
   "cell_type": "markdown",
   "metadata": {},
   "source": [
    "### 3. Train model & Accuracy check"
   ]
  },
  {
   "cell_type": "markdown",
   "metadata": {},
   "source": [
    "학습을 시작해보겠습니다."
   ]
  },
  {
   "cell_type": "code",
   "execution_count": 53,
   "metadata": {
    "scrolled": false
   },
   "outputs": [
    {
     "name": "stdout",
     "output_type": "stream",
     "text": [
      "Epoch : 0 / Loss : 6.21368896484375\n",
      "Epoch : 10 / Loss : 5.146040445963542\n",
      "Epoch : 20 / Loss : 5.035551350911458\n",
      "Epoch : 30 / Loss : 4.920035400390625\n",
      "Epoch : 40 / Loss : 4.837781575520833\n",
      "Epoch : 50 / Loss : 4.799435628255209\n",
      "Epoch : 60 / Loss : 4.769701334635417\n",
      "Epoch : 70 / Loss : 4.7520658365885415\n",
      "Epoch : 80 / Loss : 4.727667643229167\n",
      "Epoch : 90 / Loss : 4.775590006510416\n",
      "Epoch : 100 / Loss : 4.724498697916666\n",
      "Epoch : 110 / Loss : 4.695520833333333\n",
      "Epoch : 120 / Loss : 4.722896321614583\n",
      "Epoch : 130 / Loss : 4.669930013020833\n",
      "Epoch : 140 / Loss : 4.677373453776042\n",
      "Epoch : 150 / Loss : 4.638875325520833\n",
      "Epoch : 160 / Loss : 4.696876220703125\n",
      "Epoch : 170 / Loss : 4.642325846354167\n",
      "Epoch : 180 / Loss : 4.6255415852864585\n",
      "Epoch : 190 / Loss : 4.643114827473958\n"
     ]
    }
   ],
   "source": [
    "model.reset_parameters()\n",
    "optimizer = torch.optim.Adam(model.parameters(), lr=0.001, weight_decay=5e-4)\n",
    "cost = torch.nn.CrossEntropyLoss()\n",
    "\n",
    "i = 0\n",
    "model.to(device)\n",
    "model.train()\n",
    "for epoch in range(200):\n",
    "    epoch_loss = torch.zeros(1).to(device)\n",
    "    for data in loader : \n",
    "        data.to(device)\n",
    "        optimizer.zero_grad()\n",
    "        out = model(data = data)\n",
    "        loss = cost(out, data.y)\n",
    "        loss += 0.1*model.frobenious_norm() # L_lp loss\n",
    "        loss += 0.1*model.cross_entropy() # L_E loss\n",
    "        loss.backward()\n",
    "        optimizer.step()\n",
    "        epoch_loss += loss\n",
    "    if i%10 == 0 : \n",
    "        print(\"Epoch : {0} / Loss : {1}\".format(i, epoch_loss.to(\"cpu\").detach().item()/150))\n",
    "    i += 1"
   ]
  },
  {
   "cell_type": "markdown",
   "metadata": {},
   "source": [
    "Test data에 대해서 성능평가를 진행해보겠습니다."
   ]
  },
  {
   "cell_type": "code",
   "execution_count": 54,
   "metadata": {},
   "outputs": [
    {
     "name": "stdout",
     "output_type": "stream",
     "text": [
      "Test accuracy 0.9210526315789473\n"
     ]
    }
   ],
   "source": [
    "acc = 0\n",
    "for test_d in test_data : \n",
    "    if  torch.argmax(model(test_d.to(device))) == test_d.y : \n",
    "        acc += 1\n",
    "        \n",
    "print(\"Test accuracy {0}\".format(acc/38))"
   ]
  },
  {
   "cell_type": "markdown",
   "metadata": {},
   "source": [
    "92%라는 꽤 높은 정확도를 보이는 것을 확인할 수 있습니다."
   ]
  }
 ],
 "metadata": {
  "kernelspec": {
   "display_name": "sunwoo_env",
   "language": "python",
   "name": "sunwoo_env"
  },
  "language_info": {
   "codemirror_mode": {
    "name": "ipython",
    "version": 3
   },
   "file_extension": ".py",
   "mimetype": "text/x-python",
   "name": "python",
   "nbconvert_exporter": "python",
   "pygments_lexer": "ipython3",
   "version": "3.8.5"
  },
  "toc": {
   "base_numbering": 1,
   "nav_menu": {},
   "number_sections": false,
   "sideBar": true,
   "skip_h1_title": false,
   "title_cell": "Table of Contents",
   "title_sidebar": "Contents",
   "toc_cell": false,
   "toc_position": {
    "height": "calc(100% - 180px)",
    "left": "10px",
    "top": "150px",
    "width": "165px"
   },
   "toc_section_display": true,
   "toc_window_display": true
  }
 },
 "nbformat": 4,
 "nbformat_minor": 4
}
